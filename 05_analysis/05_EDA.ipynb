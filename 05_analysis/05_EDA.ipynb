{
 "cells": [
  {
   "cell_type": "markdown",
   "metadata": {
    "slideshow": {
     "slide_type": "slide"
    }
   },
   "source": [
    "# EDA: Exploratory Data Analysis\n",
    "\n",
    "- tools: `pandas`, `seaborn` & `matplotlib`\n",
    "- concepts:\n",
    "    - structure (including joins)\n",
    "    - granularity\n",
    "    - scope \n",
    "    - temporality\n",
    "    - faithfulness\n",
    "- EDA Case Studies: Car Crashes"
   ]
  },
  {
   "cell_type": "markdown",
   "metadata": {
    "slideshow": {
     "slide_type": "notes"
    }
   },
   "source": [
    "<div class=\"alert alert-success\">\n",
    "The examples and data in this notebook are largely adapted from two places: (1) Jake VanderPlas' <a href=\"https://github.com/jakevdp/PythonDataScienceHandbook\" class=\"alert-link\">Python Data Science Handbook</a> and (2) Berkeley's <a href=\"https://www.textbook.ds100.org/ch/06/viz_intro.html\" class=\"alert-link\">Data 100 Textbook</a>. Feel free to check out these resources for more!\n",
    "</div>"
   ]
  },
  {
   "cell_type": "markdown",
   "metadata": {
    "slideshow": {
     "slide_type": "slide"
    }
   },
   "source": [
    "## Exploratory data analysis (EDA)\n",
    "\n",
    "> an approach to completely and fully understand your dataset.\n",
    "\n",
    "It requires a state of flexibility and a willingness to look for both:\n",
    "- artifacts in the data we anticipate exist \n",
    "- artifacts that we don't expect / believe are there\n",
    "\n"
   ]
  },
  {
   "cell_type": "markdown",
   "metadata": {
    "slideshow": {
     "slide_type": "slide"
    }
   },
   "source": [
    "## Setup"
   ]
  },
  {
   "cell_type": "code",
   "execution_count": null,
   "metadata": {
    "slideshow": {
     "slide_type": "fragment"
    }
   },
   "outputs": [],
   "source": [
    "# Import seaborn and apply its plotting styles\n",
    "import seaborn as sns\n",
    "sns.set(style=\"white\", font_scale=2)\n",
    "\n",
    "# import matplotlib\n",
    "import matplotlib as mpl\n",
    "import matplotlib.pyplot as plt\n",
    "# set plotting size parameter\n",
    "plt.rcParams['figure.figsize'] = (17, 7)\n",
    "\n",
    "# make sure pandas & numpy are imported\n",
    "import pandas as pd\n",
    "import numpy as np\n",
    "\n",
    "import warnings\n",
    "warnings.filterwarnings('ignore')\n",
    "\n",
    "#improve resolution\n",
    "#comment this line if erroring on your machine/screen\n",
    "%config InlineBackend.figure_format ='retina'"
   ]
  },
  {
   "cell_type": "markdown",
   "metadata": {
    "slideshow": {
     "slide_type": "slide"
    }
   },
   "source": [
    "# EDA\n",
    "\n",
    "In the [Data 100 Textbook](https://www.textbook.ds100.org/ch/05/eda_intro.html), the authors state that with EDA, \"We seek to understand the following properties about our data\":\n",
    "\n",
    "- Structure: the format of our data file.\n",
    "- Granularity: how fine or coarse each row and column is.\n",
    "- Scope: how (in)complete our data are.\n",
    "- Temporality: how the data are situated in time.\n",
    "- Faithfulness: how well the data captures \"reality\"."
   ]
  },
  {
   "cell_type": "markdown",
   "metadata": {
    "slideshow": {
     "slide_type": "slide"
    }
   },
   "source": [
    "# Structure\n",
    "\n",
    "What is the format of our data file?"
   ]
  },
  {
   "cell_type": "markdown",
   "metadata": {
    "slideshow": {
     "slide_type": "fragment"
    }
   },
   "source": [
    "<div class=\"alert alert-info\">\n",
    "The <b>structure</b> of your data describes the \"shape\" of the dataset. This refers to the format that the data are stored.\n",
    "<div>"
   ]
  },
  {
   "cell_type": "markdown",
   "metadata": {
    "slideshow": {
     "slide_type": "slide"
    }
   },
   "source": [
    "#### Questions to be able to answer about the structure of your dataset:\n",
    "1. What format are the data in?\n",
    "    - tabular (CSV, TSV, Excel, SQL)\n",
    "    - nested (XML, JSON)   "
   ]
  },
  {
   "cell_type": "markdown",
   "metadata": {
    "slideshow": {
     "slide_type": "fragment"
    }
   },
   "source": [
    "2. Is each observation in a separate row? \n",
    "    - If not, can we get it into that format?\n",
    "    - If the data are nested, how would we unnest the data"
   ]
  },
  {
   "cell_type": "markdown",
   "metadata": {
    "slideshow": {
     "slide_type": "fragment"
    }
   },
   "source": [
    "3. What variables (columns) do we have information about?\n",
    "    - what `type` of information is in each column\n",
    "    - Do we have all of the variables we need?    "
   ]
  },
  {
   "cell_type": "markdown",
   "metadata": {
    "slideshow": {
     "slide_type": "fragment"
    }
   },
   "source": [
    "4. Are the data spread across multiple tables? \n",
    "    - How do we want to join the data?\n",
    "    "
   ]
  },
  {
   "cell_type": "markdown",
   "metadata": {
    "slideshow": {
     "slide_type": "slide"
    }
   },
   "source": [
    "## Joins"
   ]
  },
  {
   "cell_type": "markdown",
   "metadata": {
    "slideshow": {
     "slide_type": "fragment"
    }
   },
   "source": [
    "Data are often spread across multiple tables of data, especially when the data are being retrieved from a relational database (i.e. SQL). *Joins* will help you get the data you need into a single DataFrame."
   ]
  },
  {
   "cell_type": "markdown",
   "metadata": {
    "slideshow": {
     "slide_type": "fragment"
    }
   },
   "source": [
    "Let's look at an example."
   ]
  },
  {
   "cell_type": "code",
   "execution_count": null,
   "metadata": {
    "slideshow": {
     "slide_type": "slide"
    }
   },
   "outputs": [],
   "source": [
    "people = pd.DataFrame(\n",
    "    [[\"Joey\",      \"blue\",    42,  \"M\"],\n",
    "     [\"Weiwei\",    \"blue\",    50,  \"F\"], \n",
    "     [\"Joey\",      \"green\",    8,  \"M\"],\n",
    "     [\"Karina\",    \"green\",    7,  \"F\"],\n",
    "     [\"Nhi\",       \"blue\",     3,  \"F\"],\n",
    "     [\"Sam\",       \"pink\",   -42,  \"M\"]], \n",
    "    columns = [\"Name\", \"Color\", \"Number\", \"Sex\"])"
   ]
  },
  {
   "cell_type": "code",
   "execution_count": null,
   "metadata": {
    "slideshow": {
     "slide_type": "fragment"
    }
   },
   "outputs": [],
   "source": [
    "email = pd.DataFrame(\n",
    "    [[\"Deb\",  \"deborah_nolan@ucsd.edu\"],\n",
    "     [\"Sam\",  \"samlau95@ucsd.edu\"],\n",
    "     [\"John\", \"doe@nope.com\"],\n",
    "     [\"Joey\", \"jegonzal@cs.ucsd.edu\"],\n",
    "     [\"Weiwei\", \"weiwzhang@ucsd.edu\"],\n",
    "     [\"Weiwei\", \"weiwzhang+123@ucsd.edu\"],\n",
    "     [\"Karina\", \"kgoot@ucsd.edu\"]], \n",
    "    columns = [\"User Name\", \"Email\"])"
   ]
  },
  {
   "cell_type": "code",
   "execution_count": null,
   "metadata": {
    "scrolled": true,
    "slideshow": {
     "slide_type": "slide"
    }
   },
   "outputs": [],
   "source": [
    "people"
   ]
  },
  {
   "cell_type": "code",
   "execution_count": null,
   "metadata": {
    "slideshow": {
     "slide_type": "fragment"
    }
   },
   "outputs": [],
   "source": [
    "email"
   ]
  },
  {
   "cell_type": "markdown",
   "metadata": {
    "slideshow": {
     "slide_type": "fragment"
    }
   },
   "source": [
    "A join between the two tables on the columns that contain the usernames will allow us to combine these two tables. \n",
    "\n",
    "To decide on what *type* of join we'll use, we must then decide how we want to handle people that appear in one table but not the other. (For example, Fernando appears in the `people` table but not the `email` table.)\n",
    "\n",
    "We have several types of joins for each strategy of matching missing values."
   ]
  },
  {
   "cell_type": "markdown",
   "metadata": {
    "slideshow": {
     "slide_type": "slide"
    }
   },
   "source": [
    "## Inner Join\n",
    "\n",
    "One of the more common joins is the inner join, where *any row that doesn't have a match is dropped in the final result*:\n",
    "\n",
    "It only includes rows found in both tables."
   ]
  },
  {
   "cell_type": "code",
   "execution_count": null,
   "metadata": {
    "slideshow": {
     "slide_type": "fragment"
    }
   },
   "outputs": [],
   "source": [
    "people"
   ]
  },
  {
   "cell_type": "code",
   "execution_count": null,
   "metadata": {},
   "outputs": [],
   "source": [
    "email"
   ]
  },
  {
   "cell_type": "code",
   "execution_count": null,
   "metadata": {
    "slideshow": {
     "slide_type": "fragment"
    }
   },
   "outputs": [],
   "source": [
    "# inner join\n",
    "# Nhi, Deb and John don't appear\n",
    "people.merge(email, how='inner', \n",
    "             left_on='Name', right_on='User Name')"
   ]
  },
  {
   "cell_type": "markdown",
   "metadata": {
    "slideshow": {
     "slide_type": "fragment"
    }
   },
   "source": [
    "If the field you are joining on had the same name in both dataframe, you could use the `on` parameter instead of `left_on` and `right_on`"
   ]
  },
  {
   "cell_type": "markdown",
   "metadata": {
    "slideshow": {
     "slide_type": "slide"
    }
   },
   "source": [
    "## Join Types \n",
    "There are four major joins that you'll want to become familiar with:"
   ]
  },
  {
   "cell_type": "markdown",
   "metadata": {
    "slideshow": {
     "slide_type": "fragment"
    }
   },
   "source": [
    "<center><img src=\"img/09_joins.png\" width=\"60%\" height=\"60%\"></center>\n"
   ]
  },
  {
   "cell_type": "markdown",
   "metadata": {
    "slideshow": {
     "slide_type": "slide"
    }
   },
   "source": [
    "Pandas **`join`** function versus **`merge`** function:\n",
    "- **`join`** is used when the fields you're joining on are the indices. You don't need to specificy the field in this case; it's implicit.\n",
    "- **`merge`** is used when fields you join on are columns in the dataframe.\n",
    "- For the mix case, one field is an index and the other field is a column, use **`merge`** with either **`left_index=True`** or **`right_index=True`**"
   ]
  },
  {
   "cell_type": "markdown",
   "metadata": {
    "slideshow": {
     "slide_type": "slide"
    }
   },
   "source": [
    "# Granularity\n",
    "How fine or coarse is the data stored in each row and column?"
   ]
  },
  {
   "cell_type": "markdown",
   "metadata": {
    "slideshow": {
     "slide_type": "fragment"
    }
   },
   "source": [
    "<div class=\"alert alert-info\">\n",
    "The <b>granularity</b> of your data is what each observation in your data represents.\n",
    "<div>"
   ]
  },
  {
   "cell_type": "markdown",
   "metadata": {
    "slideshow": {
     "slide_type": "fragment"
    }
   },
   "source": [
    "Often, the observation will be a **single individual** (i.e. information about each person who has called into a call center). \n",
    "\n",
    "Other times, it will be data collected about a **single individual at a particular time** (i.e. information about each call received on a given day) - Note that the same individual could be in this dataset multiple times.\n",
    "\n",
    "Other times, each row will contain a **summary about a number of indidivuals** (i.e. total number of calls received at a call center each day) - Here, each row would contain summarized information about a whole bunch of people."
   ]
  },
  {
   "cell_type": "markdown",
   "metadata": {
    "slideshow": {
     "slide_type": "slide"
    }
   },
   "source": [
    "## Individual Level Granularity\n",
    "\n",
    "In this example, we see that each observation represents a single individual."
   ]
  },
  {
   "cell_type": "code",
   "execution_count": null,
   "metadata": {
    "slideshow": {
     "slide_type": "fragment"
    }
   },
   "outputs": [],
   "source": [
    "calls = pd.DataFrame(\n",
    "    [[\"Joey\",      \"suspected poisoning\",  42,  \"M\"],\n",
    "     [\"Weiwei\",    \"ingested substance\",   50,  \"F\"],\n",
    "     [\"Joey\",      \"chemical in eye\",       8,  \"M\"],\n",
    "     [\"Karina\",    \"ingested substance\",    7,  \"F\"],\n",
    "     [\"Nhi\",       \"ingested substance\",    3,  \"F\"],\n",
    "     [\"Sam\",       \"chemical on skin\",     42,  \"M\"]], \n",
    "    columns = [\"Name\", \"Complaint\", \"Age\", \"Gender\"])\n",
    "\n",
    "calls"
   ]
  },
  {
   "cell_type": "markdown",
   "metadata": {
    "slideshow": {
     "slide_type": "slide"
    }
   },
   "source": [
    "## Group-Level Granularity\n",
    "\n",
    "However often the data we're handed have observations (rows) that summarize information across many individuals."
   ]
  },
  {
   "cell_type": "code",
   "execution_count": null,
   "metadata": {
    "slideshow": {
     "slide_type": "fragment"
    }
   },
   "outputs": [],
   "source": [
    "calls_total = pd.DataFrame(\n",
    "    [[\"2019-08-29\", 100],\n",
    "    [\"2019-08-30\",  212],\n",
    "    [\"2019-08-31\",  88],\n",
    "    [\"2019-09-01\",  160],\n",
    "    [\"2019-09-02\",  122],\n",
    "    ], \n",
    "    columns = [\"Date\", \"Calls\"])\n",
    "\n",
    "calls_total"
   ]
  },
  {
   "cell_type": "markdown",
   "metadata": {
    "slideshow": {
     "slide_type": "slide"
    }
   },
   "source": [
    "#### Questions to be able to answer about the granularity of your dataset:\n",
    "1. What does each record (row) represent?"
   ]
  },
  {
   "cell_type": "markdown",
   "metadata": {
    "slideshow": {
     "slide_type": "fragment"
    }
   },
   "source": [
    "2. Do all records uniformly represent the same level of granularity\n",
    "   - are some rows individual-level, while others are summaries of the group? How will this be handled?"
   ]
  },
  {
   "cell_type": "markdown",
   "metadata": {
    "slideshow": {
     "slide_type": "fragment"
    }
   },
   "source": [
    "3. Were the data summarized or aggregated?\n",
    "    - How were they grouped & summarized\n",
    "    - What metrics were used for summarization (means and medians are common)"
   ]
  },
  {
   "cell_type": "markdown",
   "metadata": {
    "slideshow": {
     "slide_type": "fragment"
    }
   },
   "source": [
    "4. What aggregations/summarizations do we plan to do with these data?\n",
    "    "
   ]
  },
  {
   "cell_type": "markdown",
   "metadata": {
    "slideshow": {
     "slide_type": "slide"
    }
   },
   "source": [
    "# Scope\n",
    "\n",
    "How (in)complete are our data?"
   ]
  },
  {
   "cell_type": "markdown",
   "metadata": {
    "slideshow": {
     "slide_type": "fragment"
    }
   },
   "source": [
    "<div class=\"alert alert-info\">\n",
    "The <b>scope</b> of your data describes how helpful these data are with respect to our data science question.\n",
    "<div>"
   ]
  },
  {
   "cell_type": "markdown",
   "metadata": {
    "slideshow": {
     "slide_type": "fragment"
    }
   },
   "source": [
    "At this point, **descriptive statistics** & **exploratory visualizations** become pretty essential.\n",
    "\n",
    "- Descriptive Statistics - help to summarize typical values and ranges for variables of interest\n",
    "- Exploratory Visualizations - help us understand the distributions of individual variables and relationships between variables in our dataset\n",
    "\n",
    "We'll also want to start to determine how frequently, for what variables, and why data are **missing**."
   ]
  },
  {
   "cell_type": "markdown",
   "metadata": {
    "slideshow": {
     "slide_type": "slide"
    }
   },
   "source": [
    "# Temporality\n",
    "How are these data situated in time?"
   ]
  },
  {
   "cell_type": "markdown",
   "metadata": {
    "slideshow": {
     "slide_type": "fragment"
    }
   },
   "source": [
    "<div class=\"alert alert-info\">\n",
    "The <b>temporality</b> refers to how the data are situated in time. Specifically, we're interested in what data and time information are included in the dataset.\n",
    "<div>\n"
   ]
  },
  {
   "cell_type": "markdown",
   "metadata": {
    "slideshow": {
     "slide_type": "slide"
    }
   },
   "source": [
    "#### Questions to be able to answer about the temporality of your dataset:\n",
    "1. What do reported times represent?\n",
    "    - What does each date and time in the dataset mean? Time event occurred? Time reported?\n",
    "    - Note that **timezones** & **Daylight Saving Time** are always important to consider    "
   ]
  },
  {
   "cell_type": "markdown",
   "metadata": {
    "slideshow": {
     "slide_type": "fragment"
    }
   },
   "source": [
    "2. How are the dates/times represented? What format are they in?\n",
    "   - YYYY-MM-DD? Year? Time? Date & Time?"
   ]
  },
  {
   "cell_type": "markdown",
   "metadata": {
    "slideshow": {
     "slide_type": "fragment"
    }
   },
   "source": [
    "3. How are null timestamps represented? \n",
    "    - was a \"random\" date picked?\n",
    "        - `Jan 1st 1990` <- Excel's default date\n",
    "        - `Jan 1st, 1904` <- Excel's default date *on Mac*\n",
    "        - `12:00am Jan 1st, 1970`<- [Unix Epoch for Timestamps](https://www.wikiwand.com/en/Unix_time#/Encoding_time_as_a_number)\n",
    "    - `-999`, `NaN`, `NA`"
   ]
  },
  {
   "cell_type": "markdown",
   "metadata": {
    "slideshow": {
     "slide_type": "fragment"
    }
   },
   "source": [
    "4. What aggregations/summarizations do we plan to do with these data?"
   ]
  },
  {
   "cell_type": "markdown",
   "metadata": {
    "slideshow": {
     "slide_type": "slide"
    }
   },
   "source": [
    "# Faithfulness\n",
    "How well do these data reflect reality?\n"
   ]
  },
  {
   "cell_type": "markdown",
   "metadata": {
    "slideshow": {
     "slide_type": "fragment"
    }
   },
   "source": [
    "<div class=\"alert alert-info\">\n",
    "The <b>faithfulness</b> of your data is a determination of how trustworthy the data are.\n",
    "<div>"
   ]
  },
  {
   "cell_type": "markdown",
   "metadata": {
    "slideshow": {
     "slide_type": "slide"
    }
   },
   "source": [
    "#### Questions to be able to answer about the faithfulness of your dataset:\n",
    "1. Are the values reasonable / what we expect? \n",
    "    - Unreasonable values examples: dates in the future, locations that don't exist, negative counts, wild outliers"
   ]
  },
  {
   "cell_type": "markdown",
   "metadata": {
    "slideshow": {
     "slide_type": "fragment"
    }
   },
   "source": [
    "2. Are there inconsistencies across tables?\n",
    "    - Identifiers that don't match?\n",
    "    - Date of Births that differ between two tables?\n",
    "    - Any inconsistencies between values stored in more than one table?\n"
   ]
  },
  {
   "cell_type": "markdown",
   "metadata": {
    "slideshow": {
     "slide_type": "fragment"
    }
   },
   "source": [
    "3. Are there data entered by hand? These often contain inconsistencies.\n"
   ]
  },
  {
   "cell_type": "markdown",
   "metadata": {
    "slideshow": {
     "slide_type": "fragment"
    }
   },
   "source": [
    "4. Any obvious signs of falsification?\n",
    "    - examples: repeated names, fake looking email addresses, repeated uncommon names or fields"
   ]
  },
  {
   "cell_type": "markdown",
   "metadata": {
    "slideshow": {
     "slide_type": "slide"
    }
   },
   "source": [
    "# EDA Case Study: Car Crashes\n",
    "\n",
    "Typically you won't be handed a dataset without any information about where the data came from or what question you want to ask. But, for the sake of this exercise, let's look at a dataset where we really don't have any information beyond what's in the dataset itself and see what we can figure out through EDA."
   ]
  },
  {
   "cell_type": "markdown",
   "metadata": {
    "slideshow": {
     "slide_type": "slide"
    }
   },
   "source": [
    "## The Data\n",
    "\n",
    "We'll start with a dataset available by default from the `seaborn` package."
   ]
  },
  {
   "cell_type": "code",
   "execution_count": null,
   "metadata": {
    "slideshow": {
     "slide_type": "fragment"
    }
   },
   "outputs": [],
   "source": [
    "## load dataset in\n",
    "crashes = sns.load_dataset('car_crashes')\n",
    "\n",
    "crashes.head()"
   ]
  },
  {
   "cell_type": "markdown",
   "metadata": {
    "slideshow": {
     "slide_type": "slide"
    }
   },
   "source": [
    "## Structure\n",
    "\n",
    "<div class=\"alert alert-info\">\n",
    "The <b>structure</b> of your data describes the \"shape\" of the dataset. This refers to the format that the data are stored.\n",
    "<div>"
   ]
  },
  {
   "cell_type": "code",
   "execution_count": null,
   "metadata": {
    "slideshow": {
     "slide_type": "fragment"
    }
   },
   "outputs": [],
   "source": [
    "crashes.head()"
   ]
  },
  {
   "cell_type": "markdown",
   "metadata": {
    "slideshow": {
     "slide_type": "fragment"
    }
   },
   "source": [
    "At a glance and without any additional information, we can tell this is **tabular data** with *observations in rows* and *variables in columns*."
   ]
  },
  {
   "cell_type": "markdown",
   "metadata": {
    "slideshow": {
     "slide_type": "fragment"
    }
   },
   "source": [
    "### Clicker Question #1\n",
    "\n",
    "Should we change the way these data are stored and why?\n",
    "\n",
    "- A) Yes, nested XML is easier to work with\n",
    "- B) Yes, observations should be in columns \n",
    "- C) Yes, nested JSON is easier to work with\n",
    "- D) No, observations in rows is best\n",
    "- E) ¯\\\\\\_(ツ)\\_/¯"
   ]
  },
  {
   "cell_type": "markdown",
   "metadata": {
    "slideshow": {
     "slide_type": "slide"
    }
   },
   "source": [
    "Often the first thing you'll want to know is how big the datset is."
   ]
  },
  {
   "cell_type": "code",
   "execution_count": null,
   "metadata": {
    "slideshow": {
     "slide_type": "fragment"
    }
   },
   "outputs": [],
   "source": [
    "## determine shape of dataset\n",
    "crashes.shape"
   ]
  },
  {
   "cell_type": "markdown",
   "metadata": {
    "slideshow": {
     "slide_type": "slide"
    }
   },
   "source": [
    "### What type of variable is in each column?"
   ]
  },
  {
   "cell_type": "code",
   "execution_count": null,
   "metadata": {
    "slideshow": {
     "slide_type": "fragment"
    }
   },
   "outputs": [],
   "source": [
    "crashes.dtypes "
   ]
  },
  {
   "cell_type": "markdown",
   "metadata": {
    "slideshow": {
     "slide_type": "fragment"
    }
   },
   "source": [
    "Ok, mostly continuous variables, except for `abbrev` which contains some type of string data."
   ]
  },
  {
   "cell_type": "markdown",
   "metadata": {
    "slideshow": {
     "slide_type": "slide"
    }
   },
   "source": [
    "## Granularity\n",
    "\n",
    "<div class=\"alert alert-info\">\n",
    "The <b>granularity</b> of your data is what each observation in your data represents.\n",
    "<div>"
   ]
  },
  {
   "cell_type": "code",
   "execution_count": null,
   "metadata": {
    "scrolled": true,
    "slideshow": {
     "slide_type": "fragment"
    }
   },
   "outputs": [],
   "source": [
    "# take a look at the data\n",
    "crashes.head()"
   ]
  },
  {
   "cell_type": "markdown",
   "metadata": {
    "slideshow": {
     "slide_type": "fragment"
    }
   },
   "source": [
    "By focusing more closely on the `abbrev` category, we get a sense for what each observation represents - each row includes information about car crashes *at the state level*."
   ]
  },
  {
   "cell_type": "markdown",
   "metadata": {
    "slideshow": {
     "slide_type": "fragment"
    }
   },
   "source": [
    "### Clicker Question #2\n",
    "\n",
    "What's the granularity of this dataset? \n",
    "\n",
    "- A) Individual-Level\n",
    "- B) Group-level\n",
    "- C) Individiual-level over time\n",
    "- D) Group-level over time"
   ]
  },
  {
   "cell_type": "markdown",
   "metadata": {
    "slideshow": {
     "slide_type": "fragment"
    }
   },
   "source": [
    "But wait...let's return to the number of observations there are in the dataset."
   ]
  },
  {
   "cell_type": "code",
   "execution_count": null,
   "metadata": {
    "slideshow": {
     "slide_type": "fragment"
    }
   },
   "outputs": [],
   "source": [
    "## determine shape of dataset\n",
    "crashes.shape"
   ]
  },
  {
   "cell_type": "markdown",
   "metadata": {
    "slideshow": {
     "slide_type": "fragment"
    }
   },
   "source": [
    "There are 50 US states...why are there *51* observations? "
   ]
  },
  {
   "cell_type": "markdown",
   "metadata": {
    "slideshow": {
     "slide_type": "slide"
    }
   },
   "source": [
    "## Scope\n",
    "\n",
    "<div class=\"alert alert-info\">\n",
    "The <b>scope</b> of your data describes how helpful these data are with respect to our data science question.\n",
    "<div>"
   ]
  },
  {
   "cell_type": "code",
   "execution_count": null,
   "metadata": {
    "scrolled": true,
    "slideshow": {
     "slide_type": "fragment"
    }
   },
   "outputs": [],
   "source": [
    "crashes"
   ]
  },
  {
   "cell_type": "markdown",
   "metadata": {
    "slideshow": {
     "slide_type": "fragment"
    }
   },
   "source": [
    "Ah! Washington, DC is included in there.\n",
    "\n",
    "We now have an understanding that we're working with a dataset summarized at the state/territory level. "
   ]
  },
  {
   "cell_type": "markdown",
   "metadata": {
    "slideshow": {
     "slide_type": "slide"
    }
   },
   "source": [
    "## Temporality?\n",
    "\n",
    "<div class=\"alert alert-info\">\n",
    "The <b>temporality</b> refers to how the data are situated in time. Specifically, we're interested in what data and time information are included in the dataset.\n",
    "<div>\n"
   ]
  },
  {
   "cell_type": "markdown",
   "metadata": {
    "slideshow": {
     "slide_type": "fragment"
    }
   },
   "source": [
    "This dataset includes no information about when these data were collected, what year/time period they represent. This would be important information if you truly wanted to use them in an analysis."
   ]
  },
  {
   "cell_type": "markdown",
   "metadata": {
    "slideshow": {
     "slide_type": "slide"
    }
   },
   "source": [
    "## Faithfulness?\n",
    "\n",
    "<div class=\"alert alert-info\">\n",
    "The <b>faithfulness</b> of your data is a determination of how trustworthy the data are.\n",
    "<div>"
   ]
  },
  {
   "cell_type": "markdown",
   "metadata": {
    "slideshow": {
     "slide_type": "fragment"
    }
   },
   "source": [
    "Now, because we have very little information about where these data came from and not much is included in the documenation, right off the bat we should be wary. Nevertheless, we'll take a look to see how believable the values are within the dataset."
   ]
  },
  {
   "cell_type": "markdown",
   "metadata": {
    "slideshow": {
     "slide_type": "slide"
    }
   },
   "source": [
    "## Missing values?"
   ]
  },
  {
   "cell_type": "code",
   "execution_count": null,
   "metadata": {
    "scrolled": true,
    "slideshow": {
     "slide_type": "fragment"
    }
   },
   "outputs": [],
   "source": [
    "null_rows = crashes.isnull().any(axis=1)\n",
    "print(crashes[null_rows])"
   ]
  },
  {
   "cell_type": "markdown",
   "metadata": {
    "slideshow": {
     "slide_type": "fragment"
    }
   },
   "source": [
    "Looks like there aren't any missing data in this dataset, which is a good start."
   ]
  },
  {
   "cell_type": "markdown",
   "metadata": {
    "slideshow": {
     "slide_type": "slide"
    }
   },
   "source": [
    "## Expected values? Wild outliers?\n",
    "\n",
    "We'll look at each of the variables in the dataset to see if any thing looks *off*."
   ]
  },
  {
   "cell_type": "code",
   "execution_count": null,
   "metadata": {
    "scrolled": true,
    "slideshow": {
     "slide_type": "slide"
    }
   },
   "outputs": [],
   "source": [
    "crashes.describe()"
   ]
  },
  {
   "cell_type": "code",
   "execution_count": null,
   "metadata": {
    "slideshow": {
     "slide_type": "slide"
    }
   },
   "outputs": [],
   "source": [
    "plt.subplot(1, 3, 1)\n",
    "sns.distplot(crashes['total'], color='#DE2D26')\n",
    "plt.subplot(1, 3, 2)\n",
    "sns.distplot(crashes['speeding'], color='#0CBD18')\n",
    "plt.subplot(1, 3, 3)\n",
    "sns.distplot(crashes['alcohol'], color='#940CE8');"
   ]
  },
  {
   "cell_type": "markdown",
   "metadata": {
    "slideshow": {
     "slide_type": "fragment"
    }
   },
   "source": [
    "### Clicker Question #3\n",
    "\n",
    "After seeing the distributions in these plots which variable would you want to investigate furter?? \n",
    "\n",
    "- A) `total`\n",
    "- B) `speeding`\n",
    "- C) `alcohol`\n",
    "- D) None of these"
   ]
  },
  {
   "cell_type": "code",
   "execution_count": null,
   "metadata": {
    "slideshow": {
     "slide_type": "fragment"
    }
   },
   "outputs": [],
   "source": [
    "crashes[crashes['alcohol'] > 8]"
   ]
  },
  {
   "cell_type": "markdown",
   "metadata": {
    "slideshow": {
     "slide_type": "slide"
    }
   },
   "source": [
    "## Distraction & No Previous"
   ]
  },
  {
   "cell_type": "code",
   "execution_count": null,
   "metadata": {
    "slideshow": {
     "slide_type": "fragment"
    }
   },
   "outputs": [],
   "source": [
    "plt.subplot(1, 2, 1)\n",
    "sns.distplot(crashes['not_distracted'], color='#3A9EAA')\n",
    "plt.subplot(1, 2, 2)\n",
    "sns.distplot(crashes['no_previous'], color='#E8790C');"
   ]
  },
  {
   "cell_type": "markdown",
   "metadata": {
    "slideshow": {
     "slide_type": "slide"
    }
   },
   "source": [
    "### Relationship between these variables?\n",
    "\n",
    "We can use scatterplots to start to get an understanding for how these values are related to one another."
   ]
  },
  {
   "cell_type": "code",
   "execution_count": null,
   "metadata": {
    "scrolled": true,
    "slideshow": {
     "slide_type": "fragment"
    }
   },
   "outputs": [],
   "source": [
    "# scatterplot\n",
    "sns.lmplot(x='not_distracted', y='no_previous', \n",
    "           data=crashes, fit_reg=False);"
   ]
  },
  {
   "cell_type": "markdown",
   "metadata": {
    "slideshow": {
     "slide_type": "fragment"
    }
   },
   "source": [
    "### Clicker Question #4\n",
    "\n",
    "What best describes the relationship between these two variables? \n",
    "\n",
    "- A) Positively Correlated\n",
    "- B) Negatively correlated\n",
    "- C) Not correlated\n",
    "- D) ¯\\\\\\_(ツ)\\_/¯"
   ]
  },
  {
   "cell_type": "markdown",
   "metadata": {
    "slideshow": {
     "slide_type": "fragment"
    }
   },
   "source": [
    "So we see a relationship...but what's going on with that point with a low `not_distracted` score and a high `no_previous` score?"
   ]
  },
  {
   "cell_type": "code",
   "execution_count": null,
   "metadata": {
    "slideshow": {
     "slide_type": "slide"
    }
   },
   "outputs": [],
   "source": [
    "## figure out who the outlier is\n",
    "## ensure that each condition is in parentheses\n",
    "crashes[(crashes['not_distracted'] < 5) & (crashes['no_previous'] > 16)]"
   ]
  },
  {
   "cell_type": "markdown",
   "metadata": {
    "slideshow": {
     "slide_type": "fragment"
    }
   },
   "source": [
    "Okay, so Mississippi is behaving oddly with these two variables. Good to know."
   ]
  },
  {
   "cell_type": "markdown",
   "metadata": {
    "slideshow": {
     "slide_type": "slide"
    }
   },
   "source": [
    "## Insurance Premiums"
   ]
  },
  {
   "cell_type": "code",
   "execution_count": null,
   "metadata": {
    "slideshow": {
     "slide_type": "fragment"
    }
   },
   "outputs": [],
   "source": [
    "plt.subplot(1, 2, 1)  \n",
    "sns.distplot(crashes['ins_premium'], color='#3BC4C7')\n",
    "plt.subplot(1, 2, 2)\n",
    "sns.distplot(crashes['ins_losses'], color='#FF6699');"
   ]
  },
  {
   "cell_type": "markdown",
   "metadata": {
    "slideshow": {
     "slide_type": "fragment"
    }
   },
   "source": [
    "No wild outlier values here, but some interesting shapes to the data, with a few states having both higher `ins_losses` and a few having higher `ins_premium`. We can use a scatterplot to see if the same states/territories are found at the high end for each variable."
   ]
  },
  {
   "cell_type": "code",
   "execution_count": null,
   "metadata": {
    "slideshow": {
     "slide_type": "slide"
    }
   },
   "outputs": [],
   "source": [
    "# scatterplot\n",
    "sns.lmplot(x='ins_premium', y='ins_losses', \n",
    "           data=crashes, fit_reg=False);"
   ]
  },
  {
   "cell_type": "markdown",
   "metadata": {
    "slideshow": {
     "slide_type": "fragment"
    }
   },
   "source": [
    "As in the last scatterplot we looked at, there appears to be a relationship between these variables; however, the correlation is lower than what we saw previously, suggesting a weaker relationship between the two variables. But, it does appear that the higher the premium the higher the losses."
   ]
  },
  {
   "cell_type": "markdown",
   "metadata": {
    "slideshow": {
     "slide_type": "slide"
    }
   },
   "source": [
    "## Scatterplot Matrix\n",
    "\n",
    "We've looked at the histograms individually and scatterplots for the relationship, so we wanted to note that it is possible to combine the two in a single matrix plot."
   ]
  },
  {
   "cell_type": "code",
   "execution_count": null,
   "metadata": {
    "scrolled": true,
    "slideshow": {
     "slide_type": "fragment"
    }
   },
   "outputs": [],
   "source": [
    "# generate scatter matrix\n",
    "_ = pd.plotting.scatter_matrix(crashes[['speeding','not_distracted','ins_premium']], figsize=(15, 10))"
   ]
  }
 ],
 "metadata": {
  "celltoolbar": "Slideshow",
  "kernelspec": {
   "display_name": "Python 3",
   "language": "python",
   "name": "python3"
  },
  "language_info": {
   "codemirror_mode": {
    "name": "ipython",
    "version": 3
   },
   "file_extension": ".py",
   "mimetype": "text/x-python",
   "name": "python",
   "nbconvert_exporter": "python",
   "pygments_lexer": "ipython3",
   "version": "3.6.8"
  },
  "rise": {
   "scroll": true
  }
 },
 "nbformat": 4,
 "nbformat_minor": 2
}
